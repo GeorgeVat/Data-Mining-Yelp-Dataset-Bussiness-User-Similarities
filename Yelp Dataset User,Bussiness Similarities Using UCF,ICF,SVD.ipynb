{
 "cells": [
  {
   "cell_type": "markdown",
   "metadata": {},
   "source": [
    "### Yelp Dataset User,Bussiness Similarities Using UCF,ICF,SVD\n",
    "\n",
    "For better understanting of the project check the readme file. Instead of pandas dataframe i used dictionaries, because by then i was not familiar with pandas."
   ]
  },
  {
   "cell_type": "code",
   "execution_count": 1,
   "metadata": {
    "scrolled": true
   },
   "outputs": [],
   "source": [
    "import numpy as np\n",
    "import seaborn as sns\n",
    "import matplotlib as plt\n",
    "import json\n",
    "import pandas as pd\n",
    "from pandas import DataFrame\n",
    "import csv\n",
    "import ijson\n"
   ]
  },
  {
   "cell_type": "markdown",
   "metadata": {},
   "source": [
    "**Step 1**\n",
    "\n",
    "First we pass the pruned data in a data frame and reverse it with the df_pivot command. We do this to keep users as rows and businesses as columns. This is how we create the sparse matrix, the values that did not exist as ratings are now passed as zeros. Then we print the non-zeros elements of the table after we have made it csr sparse.\n"
   ]
  },
  {
   "cell_type": "code",
   "execution_count": 2,
   "metadata": {},
   "outputs": [
    {
     "name": "stdout",
     "output_type": "stream",
     "text": [
      "[[0 0 0 ... 0 0 0]\n",
      " [0 3 0 ... 0 0 0]\n",
      " [0 0 0 ... 0 0 0]\n",
      " ...\n",
      " [0 0 0 ... 0 0 0]\n",
      " [0 0 0 ... 0 0 0]\n",
      " [0 0 0 ... 0 0 0]]\n",
      "(4794, 4092)\n",
      "  (0, 45)\t1\n",
      "  (0, 155)\t5\n",
      "  (0, 326)\t3\n",
      "  (0, 360)\t4\n",
      "  (0, 401)\t4\n",
      "  (0, 460)\t4\n",
      "  (0, 463)\t5\n",
      "  (0, 789)\t4\n",
      "  (0, 906)\t4\n",
      "  (0, 944)\t4\n",
      "  (0, 1093)\t3\n",
      "  (0, 1118)\t4\n",
      "  (0, 1131)\t4\n",
      "  (0, 1244)\t3\n",
      "  (0, 1251)\t3\n",
      "  (0, 1525)\t4\n",
      "  (0, 1560)\t4\n",
      "  (0, 1738)\t3\n",
      "  (0, 1797)\t4\n",
      "  (0, 2057)\t4\n",
      "  (0, 2231)\t5\n",
      "  (0, 2364)\t2\n",
      "  (0, 2383)\t5\n",
      "  (0, 2665)\t4\n",
      "  (0, 2807)\t4\n",
      "  :\t:\n",
      "  (4792, 3980)\t5\n",
      "  (4792, 4015)\t2\n",
      "  (4793, 367)\t5\n",
      "  (4793, 395)\t5\n",
      "  (4793, 646)\t3\n",
      "  (4793, 705)\t5\n",
      "  (4793, 870)\t4\n",
      "  (4793, 1077)\t5\n",
      "  (4793, 1082)\t4\n",
      "  (4793, 1754)\t5\n",
      "  (4793, 2119)\t5\n",
      "  (4793, 2190)\t3\n",
      "  (4793, 2322)\t5\n",
      "  (4793, 2523)\t5\n",
      "  (4793, 2574)\t5\n",
      "  (4793, 2595)\t4\n",
      "  (4793, 2830)\t4\n",
      "  (4793, 3168)\t2\n",
      "  (4793, 3267)\t5\n",
      "  (4793, 3280)\t4\n",
      "  (4793, 3315)\t5\n",
      "  (4793, 3642)\t4\n",
      "  (4793, 3807)\t5\n",
      "  (4793, 4018)\t4\n",
      "  (4793, 4041)\t4\n",
      "197112\n"
     ]
    }
   ],
   "source": [
    "from scipy.sparse import csr_matrix\n",
    "from scipy import sparse\n",
    "\n",
    "df = pd.read_csv('pruned_data.csv',encoding='utf-8',dtype=None, names=['user_id', 'business_id', 'rating'],delimiter = ',')\n",
    "\n",
    "df = df.pivot_table(index='user_id', columns='business_id', values='rating',fill_value=0)\n",
    "mat = df.values\n",
    "\n",
    "\n",
    "print(mat)\n",
    "A = np.squeeze(np.asarray(mat))\n",
    "print(A.shape)\n",
    "R = sparse.csr_matrix(A)\n",
    "print(R)\n",
    "print(R.size)"
   ]
  },
  {
   "cell_type": "markdown",
   "metadata": {},
   "source": [
    "\n",
    "Below we randomly remove 5% of the array and save it as samples."
   ]
  },
  {
   "cell_type": "code",
   "execution_count": 3,
   "metadata": {},
   "outputs": [
    {
     "name": "stdout",
     "output_type": "stream",
     "text": [
      "The new length of the sparse matrix 187257\n",
      "The 5% sample 9855\n"
     ]
    }
   ],
   "source": [
    "import random\n",
    "\n",
    "#stores the 5%\n",
    "samples = []\n",
    "\n",
    "#nonzero indexes\n",
    "indexes = []\n",
    "for i, j in zip(*A.nonzero()):\n",
    "    indexes.append([i,j])\n",
    "\n",
    "total_non_zeros = np.count_nonzero(A)\n",
    "\n",
    "#The length after we remove the 5%\n",
    "newLen = total_non_zeros- (int(0.05*total_non_zeros))\n",
    "\n",
    "\n",
    "\n",
    "while(total_non_zeros > newLen):\n",
    "    random_index = random.choice(indexes)\n",
    "    indexes.remove(random_index) #removes the random index from the non zero indexes\n",
    "    \n",
    "    samples.append([random_index[0],random_index[1],A[random_index[0],random_index[1]]]) #store it as a sample\n",
    "    A[random_index[0],random_index[1]] = 0 #replace the removed index in the sparse matrix by replacing it with 0\n",
    "    \n",
    "    total_non_zeros = np.count_nonzero(A) #the new length from the sparce matrix\n",
    "    \n",
    "\n",
    "\n",
    "R = sparse.csr_matrix(A)\n",
    "\n",
    "\n",
    "\n",
    "print(\"The new length of the sparse matrix\",R.size)\n",
    "print(\"The 5% sample\",len(samples))\n"
   ]
  },
  {
   "cell_type": "markdown",
   "metadata": {},
   "source": [
    "**Step 2**\n",
    "\n",
    "In this step we implement the UCF algorithm. First I find the pairwise cosine similarity, which will be a square size array (4794, 4794)."
   ]
  },
  {
   "cell_type": "code",
   "execution_count": 4,
   "metadata": {},
   "outputs": [
    {
     "name": "stdout",
     "output_type": "stream",
     "text": [
      "pairwise sparse output:\n",
      "   (0, 4489)\t0.03540444145243883\n",
      "  (0, 4373)\t0.012938049570212948\n",
      "  (0, 3971)\t0.019063065415921013\n",
      "  (0, 3760)\t0.031364048958611966\n",
      "  (0, 3445)\t0.015132276226637412\n",
      "  (0, 3375)\t0.05348645244402103\n",
      "  (0, 2241)\t0.018418420079396598\n",
      "  (0, 2203)\t0.03374716423683692\n",
      "  (0, 2191)\t0.04237354706163688\n",
      "  (0, 2085)\t0.030793230903513432\n",
      "  (0, 2038)\t0.01822555172712694\n",
      "  (0, 1752)\t0.021266754085256787\n",
      "  (0, 1253)\t0.04991272901962332\n",
      "  (0, 1157)\t0.010774901836461584\n",
      "  (0, 937)\t0.01518080315898054\n",
      "  (0, 659)\t0.027831938065914576\n",
      "  (0, 588)\t0.014863907018912369\n",
      "  (0, 3464)\t0.016208051498450275\n",
      "  (0, 3174)\t0.007943782184494598\n",
      "  (0, 1947)\t0.01976031602432117\n",
      "  (0, 990)\t0.007464346312286637\n",
      "  (0, 905)\t0.02407005530465018\n",
      "  (0, 8)\t0.006241123073811121\n",
      "  (0, 4739)\t0.013894609129295448\n",
      "  (0, 4720)\t0.052808586884294316\n",
      "  :\t:\n",
      "  (4793, 695)\t0.04492063148919793\n",
      "  (4793, 694)\t0.06688850983855814\n",
      "  (4793, 630)\t0.04950980415950502\n",
      "  (4793, 626)\t0.07051317386542942\n",
      "  (4793, 554)\t0.028073696216804445\n",
      "  (4793, 549)\t0.09329513263796056\n",
      "  (4793, 507)\t0.17480626827670726\n",
      "  (4793, 489)\t0.0535004204480813\n",
      "  (4793, 446)\t0.06900156468212702\n",
      "  (4793, 428)\t0.1132086666787947\n",
      "  (4793, 427)\t0.09127958050399256\n",
      "  (4793, 404)\t0.03868074007670588\n",
      "  (4793, 358)\t0.08065871396015867\n",
      "  (4793, 309)\t0.05345395893654015\n",
      "  (4793, 285)\t0.08318172531874893\n",
      "  (4793, 278)\t0.06752070776743856\n",
      "  (4793, 277)\t0.07339636415904825\n",
      "  (4793, 274)\t0.06750743432802485\n",
      "  (4793, 236)\t0.10897646027549952\n",
      "  (4793, 230)\t0.08469027967942888\n",
      "  (4793, 68)\t0.05053073227329644\n",
      "  (4793, 54)\t0.05095314020026567\n",
      "  (4793, 26)\t0.05657035277517755\n",
      "  (4793, 7)\t0.0909502788765447\n",
      "  (4793, 3)\t0.05237396965048332\n",
      "\n",
      "(4794, 4794)\n",
      "9037124\n"
     ]
    }
   ],
   "source": [
    "from sklearn.metrics.pairwise import cosine_similarity\n",
    "\n",
    "similarities = cosine_similarity(R,dense_output=False)\n",
    "print('pairwise sparse output:\\n {}\\n'.format(similarities))\n",
    "print(similarities.shape)\n",
    "print(similarities.size)\n"
   ]
  },
  {
   "cell_type": "markdown",
   "metadata": {},
   "source": [
    "Αφού έχω βρει τα similarities θα βρω τους k  χρήστες που έχουν κάνει rate στην ίδια επιχείρηση με το κάθε sample μου. Αυτό υλοποιείτε με την συνάρτηση totalBorURating(),το flag που υπάρχει σαν παράμετρο είναι για να ξεχωρίζει αν χρειάζεται να βγάλω τους k users ή businesses(για τον ICF).H παρακάτω συνάρτηση (similaritiesOfBorU()) βρίσκει τα similarities από τους k users ή businesses. Η παράμετρο businessOrUsersRates είναι το λεξικό που υλοποιήθηκε απο την προηγουμένη συνάρτηση, ώστε να μπορεί να βρει τα indexes των k users με την εκάστοτε business και έπειτα να ψάξει στον πίνακα similarities και να πάρει το κατάλληλο."
   ]
  },
  {
   "cell_type": "markdown",
   "metadata": {},
   "source": [
    "Once I have found the similarities I will find the k users who have rate in the same business with each of my samples. I implement this with the totalBorURating () function, the flag that exists as a parameter is to distinguish if I need to remove k users or businesses (for ICF). The following function (similaritiesOfBorU ()) finds the similarities from k users or businesses. The businessOrUsersRates parameter is the dictionary implemented by the previous function, so that it can find the indexes of k users with the respective business and then search the similarities table and get the appropriate one."
   ]
  },
  {
   "cell_type": "code",
   "execution_count": 5,
   "metadata": {
    "scrolled": true
   },
   "outputs": [],
   "source": [
    "def totalBorURating(sparseMatrix,samples,flag):\n",
    "    \n",
    "    totalUsersOrBusiness = {}\n",
    "\n",
    "    for rating in samples:\n",
    "        \n",
    "        businessSample= rating[1]\n",
    "        userSample= rating[0]\n",
    "        \n",
    "        if flag==1:\n",
    "            tempB = sparseMatrix[:,businessSample] #\n",
    "            users = np.transpose(np.nonzero(tempB))\n",
    "\n",
    "            #For the users\n",
    "            totalUsersOrBusiness[userSample,businessSample] = users[:,0]\n",
    "        else: #(ICF)\n",
    "\n",
    "            tempB = sparseMatrix[:,userSample]\n",
    "            business = np.transpose(np.nonzero(tempB))\n",
    "            \n",
    "            #For the bussiness\n",
    "            totalUsersOrBusiness[userSample,businessSample] = business[:,0]\n",
    "\n",
    "        \n",
    "    return totalUsersOrBusiness\n",
    "\n",
    "def similaritiesOfBorU(businessOrUsersRates,similarities,flag):\n",
    "    \n",
    "    simiOfBorU = {}\n",
    "    for key in businessOrUsersRates:\n",
    "        \n",
    "        simiList = []\n",
    "\n",
    "        user = key[0]\n",
    "        business = key[1]\n",
    "\n",
    "\n",
    "        for item in businessOrUsersRates[key]:\n",
    "            \n",
    "            \n",
    "            if flag == 1:\n",
    "                userSimilarToCurrent = similarities[user,item]\n",
    "                simiList.append(userSimilarToCurrent)\n",
    "        \n",
    "            \n",
    "            else: #(ICF)\n",
    "                businessSimilarTocurrent = similarities[business,item]\n",
    "                simiList.append(businessSimilarTocurrent)\n",
    "        \n",
    "        \n",
    "        simiOfBorU[user,business] = simiList\n",
    "        \n",
    "        \n",
    "    return simiOfBorU\n"
   ]
  },
  {
   "cell_type": "markdown",
   "metadata": {},
   "source": [
    "**Example**\n",
    "\n",
    "Here is an example of the structures we implemented. Where the key from each dictionary is the sample and the value in the first dictionary is a vector with k users (where we have passed their indexes) and in the second are the similarities from them."
   ]
  },
  {
   "cell_type": "code",
   "execution_count": 6,
   "metadata": {
    "scrolled": false
   },
   "outputs": [
    {
     "name": "stdout",
     "output_type": "stream",
     "text": [
      "(419, 3687) [ 126  249  387  626  817  882 1118 1258 1280 1560 1570 1654 1670 1714\n",
      " 1763 1783 1847 1906 2050 2369 2409 2481 2686 2833 2835 2852 2960 2996\n",
      " 3005 3082 3192 3210 3342 3550 3664 3667 3675 3764 3849 3855 3981 4465\n",
      " 4549 4735]\n",
      "(419, 3687) [0.0, 0.040385930338458664, 0.015492816984745451, 0.0, 0.0, 0.05211840743189904, 0.023925810429144524, 0.08489859454178378, 0.037646914028931784, 0.0, 0.0, 0.019533075648188077, 0.021789259115386973, 0.023041612276175027, 0.0, 0.009810203934186523, 0.033484892205107614, 0.028944819367632352, 0.07147153193322318, 0.04766161515547998, 0.001841258466233778, 0.0, 0.0, 0.04479663213660939, 0.0, 0.037080703045064556, 0.0, 0.048517907962830994, 0.013809122125695284, 0.0, 0.04799075077683858, 0.02859286301754114, 0.015992734551754654, 0.051311298258613865, 0.01704317134479091, 0.033689903761184956, 0.03386975355326836, 0.018228642573118157, 0.016194334692395007, 0.02924336844734412, 0.04001376898938355, 0.0122110956707199, 0.08109716493543526, 0.008300891309940637]\n"
     ]
    }
   ],
   "source": [
    "\n",
    "usersThatRatedB = totalBorURating(R,samples,1)\n",
    "simiOfUsersThatRatedB = similaritiesOfBorU(usersThatRatedB,similarities,1)\n",
    "\n",
    "for key in usersThatRatedB:\n",
    "    print(key,usersThatRatedB[key])\n",
    "    break\n",
    "for key in simiOfUsersThatRatedB:\n",
    "    print(key,simiOfUsersThatRatedB[key])\n",
    "    break"
   ]
  },
  {
   "cell_type": "markdown",
   "metadata": {},
   "source": [
    "Then after we have made our structures we sort them. I also find the ratings from the users in each business."
   ]
  },
  {
   "cell_type": "code",
   "execution_count": 7,
   "metadata": {},
   "outputs": [],
   "source": [
    "def sortArraysWithIndexes(arr, length): \n",
    "    sorted_indexes = np.argsort(arr)[-length:]\n",
    "    sorted_arr = [arr[i] for i in sorted_indexes]\n",
    "    sorted_indexes = list(reversed(sorted_indexes))\n",
    "    sorted_arr = list(reversed(sorted_arr))\n",
    "    return sorted_indexes, sorted_arr\n",
    "\n",
    "\n",
    "def sortByCosineSimi(usersOrBusiness,simiOfUsersOrBusiness):\n",
    "    for key in usersOrBusiness:\n",
    "        length = len(simiOfUsersOrBusiness[key])\n",
    "        sorted_indexes,sorted_arr = sortArraysWithIndexes(simiOfUsersOrBusiness[key],length)\n",
    "        simiOfUsersOrBusiness[key] = sorted_arr\n",
    "        temp = []\n",
    "        arr2 = usersOrBusiness[key]\n",
    "        for index in sorted_indexes:\n",
    "            sortedvalue = arr2[index]\n",
    "            temp.append(sortedvalue)\n",
    "            usersOrBusiness[key] = temp\n",
    "    return usersOrBusiness,simiOfUsersOrBusiness\n",
    "\n",
    "sortedUsersThatRatedB,sortedSimiOfUsersThatRatedB = sortByCosineSimi(usersThatRatedB,simiOfUsersThatRatedB)\n",
    "\n",
    "def userRatings(sortedBusinessOrUsers,matrix,flag):\n",
    "    ratings = {}\n",
    "    for key in sortedBusinessOrUsers:\n",
    "\n",
    "        ratingsList = []\n",
    "\n",
    "        user = key[0]\n",
    "        business = key[1]\n",
    "\n",
    "        for item in sortedBusinessOrUsers[key]:\n",
    "            \n",
    "            #flag 1 is for ucf, flag != 1  icf\n",
    "            if flag==1:\n",
    "                rating = matrix[item,business]\n",
    "                ratingsList.append(rating)\n",
    "            else:\n",
    "                rating = matrix[item,user]\n",
    "                ratingsList.append(rating)\n",
    "\n",
    "        ratings[user,business] = ratingsList\n",
    "\n",
    "\n",
    "            \n",
    "    return ratings\n",
    "\n",
    "ratingsForB = userRatings(usersThatRatedB,R,1)"
   ]
  },
  {
   "cell_type": "markdown",
   "metadata": {},
   "source": [
    "**Example**\n",
    "\n",
    "-Key : sample1 , Value : vector of ratings\n",
    "\n",
    "-Key : sample1 , Value : vector of k users\n",
    "\n",
    "-Key : sample1 , Value : vector of similarity of k users\n",
    "\n"
   ]
  },
  {
   "cell_type": "code",
   "execution_count": 8,
   "metadata": {},
   "outputs": [
    {
     "name": "stdout",
     "output_type": "stream",
     "text": [
      "(419, 3687) [4, 3, 5, 4, 4, 5, 4, 4, 4, 3, 4, 3, 4, 2, 4, 4, 4, 3, 4, 4, 5, 4, 5, 4, 5, 5, 3, 4, 1, 4, 4, 4, 3, 4, 3, 4, 3, 5, 4, 4, 5, 4, 4, 4]\n",
      "(419, 3687) [1258, 4549, 2050, 882, 3550, 2996, 3192, 2369, 2833, 249, 3981, 1280, 2852, 3675, 3667, 1847, 3855, 1906, 3210, 1118, 1714, 1670, 1654, 3764, 3664, 3849, 3342, 387, 3005, 4465, 1783, 4735, 2409, 817, 626, 2481, 1560, 1570, 1763, 2686, 2835, 2960, 3082, 126]\n",
      "(419, 3687) [0.08489859454178378, 0.08109716493543526, 0.07147153193322318, 0.05211840743189904, 0.051311298258613865, 0.048517907962830994, 0.04799075077683858, 0.04766161515547998, 0.04479663213660939, 0.040385930338458664, 0.04001376898938355, 0.037646914028931784, 0.037080703045064556, 0.03386975355326836, 0.033689903761184956, 0.033484892205107614, 0.02924336844734412, 0.028944819367632352, 0.02859286301754114, 0.023925810429144524, 0.023041612276175027, 0.021789259115386973, 0.019533075648188077, 0.018228642573118157, 0.01704317134479091, 0.016194334692395007, 0.015992734551754654, 0.015492816984745451, 0.013809122125695284, 0.0122110956707199, 0.009810203934186523, 0.008300891309940637, 0.001841258466233778, 0.0, 0.0, 0.0, 0.0, 0.0, 0.0, 0.0, 0.0, 0.0, 0.0, 0.0]\n"
     ]
    }
   ],
   "source": [
    "for key in ratingsForB:\n",
    "    print(key,ratingsForB[key])\n",
    "    break\n",
    "for key in sortedUsersThatRatedB:\n",
    "    print(key,sortedUsersThatRatedB[key])\n",
    "    break\n",
    "for key in sortedSimiOfUsersThatRatedB:\n",
    "    print(key,sortedSimiOfUsersThatRatedB[key])\n",
    "    break\n"
   ]
  },
  {
   "cell_type": "markdown",
   "metadata": {},
   "source": [
    "For the calculation of UCF and ICF we have implemented a function, as the operations performed on both algorithms are the same, with the only difference being that the parameters are passed."
   ]
  },
  {
   "cell_type": "code",
   "execution_count": 15,
   "metadata": {},
   "outputs": [],
   "source": [
    "def calculateUCFOrICF(k,vectorOfUorB,vectorSimilarity,ratings):\n",
    "    score = np.zeros(len(vectorOfUorB))\n",
    "    counter = 0\n",
    "    for key in vectorOfUorB:\n",
    "        \n",
    "        t = 0\n",
    "        arithmetic = 0\n",
    "        denominator = 0\n",
    "        \n",
    "\n",
    "        tempSimilarity = vectorSimilarity[key][0:k]\n",
    "        tempRatings = ratings[key][0:k]\n",
    "\n",
    "        denominator = np.sum(tempSimilarity)               \n",
    "        arithmetic = np.dot(tempSimilarity,tempRatings)\n",
    "\n",
    "        if denominator == 0:\n",
    "            score[counter] = 0\n",
    "        else:\n",
    "            score[counter] = round(arithmetic/denominator)\n",
    "        counter = counter + 1\n",
    "    return score\n",
    "\n"
   ]
  },
  {
   "cell_type": "markdown",
   "metadata": {},
   "source": [
    "**Step 3**\n",
    "\n",
    "Here we implement the ICF algorithm. As can be seen the difference with ucf is in the structures we have implemented. In ICF we have k similar businesses in contrast to the ucf where we have k similar users. So we reverse the R table so that we have business  rows instead of users. Then we calculate the cosine similarity in the same way as before but with the inverse R. We notice that now it is again a square table but with size (4092, 4092), the same size as our business. Then we implement the same structures as before but with k similar companies (so we call the same functions but with a different flag)."
   ]
  },
  {
   "cell_type": "code",
   "execution_count": 10,
   "metadata": {},
   "outputs": [
    {
     "name": "stdout",
     "output_type": "stream",
     "text": [
      "(4092, 4092)\n",
      "7324660\n"
     ]
    }
   ],
   "source": [
    "reverseR = R.T\n",
    "\n",
    "similaritiesRev = cosine_similarity(reverseR,dense_output=False)\n",
    "\n",
    "print(similaritiesRev.shape)\n",
    "print(similaritiesRev.size)"
   ]
  },
  {
   "cell_type": "code",
   "execution_count": 12,
   "metadata": {},
   "outputs": [],
   "source": [
    "businessRatedByU= totalBorURating(reverseR,samples,2)\n",
    "simiOfBusinessRatedByU = similaritiesOfBorU(businessRatedByU,similaritiesRev,2)\n",
    "\n",
    "sortedBusinessRatedByU,sortedSimiOfBusinessRatedByU = sortByCosineSimi(businessRatedByU,simiOfBusinessRatedByU)\n",
    "ratingsForBbyU = userRatings(sortedBusinessRatedByU,reverseR,2)"
   ]
  },
  {
   "cell_type": "markdown",
   "metadata": {},
   "source": [
    "**Step 4**\n",
    "\n",
    "In this step we create the function for calculating the SVD. Where we calculate data_k, for each sample we find the new score from data_k and pass it to svdscore.\n"
   ]
  },
  {
   "cell_type": "code",
   "execution_count": 13,
   "metadata": {},
   "outputs": [],
   "source": [
    "import scipy.sparse.linalg as sp_linalg\n",
    "import matplotlib.pyplot as plt\n",
    "\n",
    "\n",
    "def calculateSVD(K,matrix,samples):\n",
    "    svdScore = np.zeros(len(samples))\n",
    "    matrix = matrix.asfptype()\n",
    "    counter = 0\n",
    "    U_k,s_k,V_k = sp_linalg.svds(matrix, K, which = 'LM')\n",
    "    \n",
    "    S_k = np.diag(s_k)\n",
    "    \n",
    "\n",
    "    for k in range(K,0,-1):\n",
    "        data_k = U_k[:,k:].dot(S_k[k:,k:]).dot(V_k[k:,:])\n",
    "    data_k = U_k.dot(S_k).dot(V_k)\n",
    "    \n",
    "    \n",
    "    for item in samples:\n",
    "        user = item[0]\n",
    "        business = item[1]\n",
    "        \n",
    "        score = round(data_k[user,business])\n",
    "        if score <= 0:\n",
    "            score = 0.0\n",
    "        elif score>5:\n",
    "            score = 5.0\n",
    "        svdScore[counter] = score\n",
    "        counter +=1\n",
    "    return svdScore  \n",
    "\n"
   ]
  },
  {
   "cell_type": "markdown",
   "metadata": {},
   "source": [
    "**Step 5**\n",
    "\n",
    "In this step we implement the function for calculating the RMSE and the algorithms UA, BA.\n",
    "\n",
    "The UA algorithm differs only in the ratings parameter with BA so we created a function that calculates both.\n",
    "\n",
    "Then we run for the k values that are given to us in the pronunciation of our algorithms and we calculate for each k the RMSE that comes out."
   ]
  },
  {
   "cell_type": "code",
   "execution_count": 16,
   "metadata": {},
   "outputs": [
    {
     "name": "stdout",
     "output_type": "stream",
     "text": [
      "User Average RMSE =  1.0471870464722817\n",
      "Business Average RMSE =  1.089919681083236\n",
      "==============================================================\n",
      "RMSE for UCF with k =  1  is :  1.3415273333022164\n",
      "RMSE for UCF with k =  5  is :  1.1031986150147541\n",
      "RMSE for UCF with k =  10  is :  1.064867203617156\n",
      "RMSE for UCF with k =  20  is :  1.057552385078002\n",
      "RMSE for UCF with k =  50  is :  1.051345445157429\n",
      "RMSE for UCF with k =  100  is :  1.0528885637865053\n",
      "RMSE for UCF with k =  200  is :  1.0523101594778193\n",
      "RMSE for UCF with k =  500  is :  1.0523101594778193\n",
      "RMSE for UCF with k =  1000  is :  1.0523101594778193\n",
      "==============================================================\n",
      "RMSE for ICF with k =  1  is :  1.3910272731628601\n",
      "RMSE for ICF with k =  5  is :  1.129782242188325\n",
      "RMSE for ICF with k =  10  is :  1.099420999778489\n",
      "RMSE for ICF with k =  20  is :  1.0883824498672774\n",
      "RMSE for ICF with k =  40  is :  1.0873097610566602\n",
      "RMSE for ICF with k =  50  is :  1.0883824498672774\n",
      "RMSE for ICF with k =  60  is :  1.088801909985572\n",
      "RMSE for ICF with k =  70  is :  1.089128045056533\n",
      "RMSE for ICF with k =  80  is :  1.0892212085693895\n",
      "RMSE for ICF with k =  100  is :  1.0881027199547884\n",
      "==============================================================\n",
      "RMSE for SVD with k =  1  is :  3.754908845275307\n",
      "RMSE for SVD with k =  5  is :  3.7002612109038098\n",
      "RMSE for SVD with k =  10  is :  3.6784506918869155\n",
      "RMSE for SVD with k =  20  is :  3.672321638989809\n",
      "RMSE for SVD with k =  30  is :  3.668796945857599\n",
      "RMSE for SVD with k =  40  is :  3.6659885909617054\n",
      "RMSE for SVD with k =  50  is :  3.667731960924795\n",
      "RMSE for SVD with k =  75  is :  3.674241518418077\n",
      "RMSE for SVD with k =  100  is :  3.6820488197344923\n"
     ]
    }
   ],
   "source": [
    "import math\n",
    "\n",
    "def rmse(samples,score):\n",
    "    counter = 0\n",
    "    sumRP = 0\n",
    "    for item in samples:\n",
    "        r = item[2] \n",
    "        p = score[counter] \n",
    "        \n",
    "        sumRP = (r - p) **2 + sumRP \n",
    "        counter = counter + 1\n",
    "    \n",
    "    error = sumRP/len(samples)\n",
    "    rootMSE = math.sqrt(error)\n",
    "    return rootMSE\n",
    "\n",
    "\n",
    "\n",
    "def  userOrBusinessAverage(ratings):\n",
    "    score = np.zeros(len(ratings))\n",
    "    counter = 0\n",
    "    for key in ratings:\n",
    "        \n",
    "        tempArr = ratings[key]\n",
    "        score[counter] = round(np.mean(tempArr))\n",
    "        counter = counter + 1\n",
    "    return  score\n",
    "\n",
    "userAverageScores = userOrBusinessAverage(ratingsForB)\n",
    "businessAverageScores = userOrBusinessAverage(ratingsForBbyU)\n",
    "\n",
    "\n",
    "\n",
    "userAverageError = rmse(samples,userAverageScores)\n",
    "businessAverageError = rmse(samples,businessAverageScores)\n",
    "\n",
    "print(\"User Average RMSE = \",userAverageError)\n",
    "print(\"Business Average RMSE = \",businessAverageError)\n",
    "\n",
    "\n",
    "\n",
    "print(\"==============================================================\")    \n",
    "\n",
    "kvalues = [1,5,10,20,50,100,200,500,1000]\n",
    "\n",
    "ucfErrorist = []\n",
    "for k in kvalues:\n",
    "    ucfScore = calculateUCFOrICF(k,sortedUsersThatRatedB,sortedSimiOfUsersThatRatedB,ratingsForB)\n",
    "\n",
    "    error = rmse(samples,ucfScore)\n",
    "\n",
    "    ucfErrorist.append(error)\n",
    "\n",
    "i=0\n",
    "for item in ucfErrorist:\n",
    "\n",
    "    print(\"RMSE for UCF with k = \",kvalues[i],\" is : \",item)\n",
    "\n",
    "    i = i+1\n",
    "    \n",
    "    \n",
    "print(\"==============================================================\")    \n",
    "\n",
    "kvalues = [1,5,10,20,40,50,60,70,80,100]\n",
    "\n",
    "icfErrorlist = []\n",
    "for k in kvalues:\n",
    "    icfScore = calculateUCFOrICF(k,sortedBusinessRatedByU,sortedSimiOfBusinessRatedByU,ratingsForBbyU)\n",
    "\n",
    "    error = rmse(samples,icfScore)\n",
    "\n",
    "    icfErrorlist.append(error)\n",
    "i=0\n",
    "for item in icfErrorlist:\n",
    "\n",
    "    print(\"RMSE for ICF with k = \",kvalues[i],\" is : \",item)\n",
    "\n",
    "    i = i+1\n",
    "    \n",
    "    \n",
    "print(\"==============================================================\")    \n",
    "\n",
    "kvalues = [1,5,10,20,30,40,50,75,100]\n",
    "\n",
    "svdErrorlist = []\n",
    "for k in kvalues:\n",
    "    svdScore = calculateSVD(k,R,samples)\n",
    "\n",
    "    error = rmse(samples,svdScore)\n",
    "\n",
    "    svdErrorlist.append(error)\n",
    "i=0\n",
    "for item in svdErrorlist:\n",
    "\n",
    "    print(\"RMSE for SVD with k = \",kvalues[i],\" is : \",item)\n",
    "\n",
    "    i = i+1"
   ]
  },
  {
   "cell_type": "markdown",
   "metadata": {},
   "source": [
    "After calculating the RMSEs for each k in each algorithm we created a table where we put in each position the algorithm, the kvalues and the list of RMSEs in each k. Then we print its plot and finally find the minimum RMSE in each algorithm and display it."
   ]
  },
  {
   "cell_type": "code",
   "execution_count": 17,
   "metadata": {},
   "outputs": [
    {
     "data": {
      "image/png": "[encoded data removed]",
      "text/plain": [
       "<Figure size 432x288 with 1 Axes>"
      ]
     },
     "metadata": {
      "needs_background": "light"
     },
     "output_type": "display_data"
    },
    {
     "data": {
      "image/png": "[encoded data removed]",
      "text/plain": [
       "<Figure size 432x288 with 1 Axes>"
      ]
     },
     "metadata": {
      "needs_background": "light"
     },
     "output_type": "display_data"
    },
    {
     "data": {
      "image/png": "[encoded data removed]",
      "text/plain": [
       "<Figure size 432x288 with 1 Axes>"
      ]
     },
     "metadata": {
      "needs_background": "light"
     },
     "output_type": "display_data"
    },
    {
     "name": "stdout",
     "output_type": "stream",
     "text": [
      "UCF  for k =  50  minimum RMSE is : 1.051345445157429\n",
      "ICF  for k =  40  minimum RMSE is : 1.0873097610566602\n",
      "SVD  for k =  40  minimum RMSE is : 3.6659885909617054\n",
      "UA  for k =  k  minimum RMSE is : 1.0471870464722817\n",
      "BA  for k =  k  minimum RMSE is : 1.089919681083236\n"
     ]
    }
   ],
   "source": [
    "combined_methods = []\n",
    "\n",
    "kvalues = [1,5,10,20,50,100,200,500,1000]\n",
    "combined_methods.append([\"UCF\",kvalues,ucfErrorist])\n",
    "\n",
    "plt.plot(combined_methods[0][1],combined_methods[0][2], \"-r\", label=combined_methods[0][0]) \n",
    "    \n",
    "plt.legend(loc=\"upper right\")\n",
    "plt.ylabel('RMSE')\n",
    "plt.xlabel('K')\n",
    "plt.show()\n",
    "\n",
    "kvalues = [1,5,10,20,40,50,60,70,80,100]\n",
    "combined_methods.append([\"ICF\",kvalues,icfErrorlist])\n",
    "\n",
    "plt.plot(combined_methods[1][1],combined_methods[1][2], \"-g\", label=combined_methods[1][0]) \n",
    "    \n",
    "plt.legend(loc=\"upper right\")\n",
    "plt.ylabel('RMSE')\n",
    "plt.xlabel('K')\n",
    "plt.show()\n",
    "\n",
    "kvalues = [1,5,10,20,30,40,50,75,100]\n",
    "combined_methods.append([\"SVD\",kvalues,svdErrorlist])\n",
    "\n",
    "plt.plot(combined_methods[2][1],combined_methods[2][2], \"-b\", label=combined_methods[2][0]) \n",
    "    \n",
    "plt.legend(loc=\"upper right\")\n",
    "plt.ylabel('RMSE')\n",
    "plt.xlabel('K')\n",
    "plt.show()\n",
    "\n",
    "\n",
    "\n",
    "bestRMSEforMethods = []\n",
    "\n",
    "for item in combined_methods:\n",
    "    minError = item[2][0]\n",
    "    indexForK = item[1][0]\n",
    "    for i in range(len(item[1])):\n",
    "        if minError > item[2][i]:\n",
    "            minError = item[2][i]\n",
    "            indexForK = item[1][i]\n",
    "    label = item[0]\n",
    "    bestRMSEforMethods.append([label,indexForK,minError])\n",
    "\n",
    "bestRMSEforMethods.append([\"UA\",\"k\",userAverageError])\n",
    "bestRMSEforMethods.append([\"BA\",\"k\",businessAverageError])\n",
    "for item in bestRMSEforMethods:\n",
    "    print(item[0],\" for k = \",item[1],\" minimum RMSE is :\",item[2])\n",
    "    \n"
   ]
  },
  {
   "cell_type": "markdown",
   "metadata": {},
   "source": [
    "**Conclusion**\n",
    "\n",
    "I notice that the UA method is the best of all and the SVD the worst. Also the results of UA are quite close to those issued by UCF. It should also be noted that in some test runs UCF produced lower RMSE than UA.\n",
    "\n",
    "In SVD it can be seen from the graph that after some value in k that the error increases as k increases. While in the rest it remains almost constant."
   ]
  },
  {
   "cell_type": "code",
   "execution_count": null,
   "metadata": {},
   "outputs": [],
   "source": []
  },
  {
   "cell_type": "code",
   "execution_count": null,
   "metadata": {},
   "outputs": [],
   "source": []
  },
  {
   "cell_type": "code",
   "execution_count": null,
   "metadata": {},
   "outputs": [],
   "source": []
  }
 ],
 "metadata": {
  "kernelspec": {
   "display_name": "Python 3",
   "language": "python",
   "name": "python3"
  },
  "language_info": {
   "codemirror_mode": {
    "name": "ipython",
    "version": 3
   },
   "file_extension": ".py",
   "mimetype": "text/x-python",
   "name": "python",
   "nbconvert_exporter": "python",
   "pygments_lexer": "ipython3",
   "version": "3.8.10"
  }
 },
 "nbformat": 4,
 "nbformat_minor": 4
}
